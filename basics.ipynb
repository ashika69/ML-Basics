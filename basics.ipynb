{
  "nbformat": 4,
  "nbformat_minor": 0,
  "metadata": {
    "colab": {
      "provenance": [],
      "authorship_tag": "ABX9TyMN8JzNM3rldsCZlaNjOo7H",
      "include_colab_link": true
    },
    "kernelspec": {
      "name": "python3",
      "display_name": "Python 3"
    },
    "language_info": {
      "name": "python"
    }
  },
  "cells": [
    {
      "cell_type": "markdown",
      "metadata": {
        "id": "view-in-github",
        "colab_type": "text"
      },
      "source": [
        "<a href=\"https://colab.research.google.com/github/ashika69/ML-Basics/blob/main/basics.ipynb\" target=\"_parent\"><img src=\"https://colab.research.google.com/assets/colab-badge.svg\" alt=\"Open In Colab\"/></a>"
      ]
    },
    {
      "cell_type": "markdown",
      "source": [
        "Program to print even numbers"
      ],
      "metadata": {
        "id": "1GLGUYCztzSZ"
      }
    },
    {
      "cell_type": "code",
      "source": [
        "for i in range(0,100):\n",
        "  if i%2==0:\n",
        "    print( i ,end = ' ')\n"
      ],
      "metadata": {
        "colab": {
          "base_uri": "https://localhost:8080/"
        },
        "id": "5-rjno6Gt_7j",
        "outputId": "5a4374c9-f0ba-4417-c2f4-9a7bf9a31a1d"
      },
      "execution_count": null,
      "outputs": [
        {
          "output_type": "stream",
          "name": "stdout",
          "text": [
            "0 2 4 6 8 10 12 14 16 18 20 22 24 26 28 30 32 34 36 38 40 42 44 46 48 50 52 54 56 58 60 62 64 66 68 70 72 74 76 78 80 82 84 86 88 90 92 94 96 98 "
          ]
        }
      ]
    },
    {
      "cell_type": "markdown",
      "source": [
        "sum of N natural number"
      ],
      "metadata": {
        "id": "eoAs91Nbuw2u"
      }
    },
    {
      "cell_type": "code",
      "source": [
        "sum = 0\n",
        "n = int(input(\"enter N :\"))\n",
        "for i in range(n+1):\n",
        "  sum = sum + i\n",
        "print(sum)\n"
      ],
      "metadata": {
        "colab": {
          "base_uri": "https://localhost:8080/"
        },
        "id": "_zrRtZgku1W3",
        "outputId": "68efa1f6-ce47-4d23-b8a9-4b425154d15f"
      },
      "execution_count": null,
      "outputs": [
        {
          "output_type": "stream",
          "name": "stdout",
          "text": [
            "enter N :10\n",
            "55\n"
          ]
        }
      ]
    },
    {
      "cell_type": "markdown",
      "source": [
        "printing patterns"
      ],
      "metadata": {
        "id": "2ghurL5vyypW"
      }
    },
    {
      "cell_type": "code",
      "source": [
        "for i in range(4): #row\n",
        "  for j in range(4): #column\n",
        "    print('*' , end = ' ')\n",
        "  print() #new line\n"
      ],
      "metadata": {
        "colab": {
          "base_uri": "https://localhost:8080/"
        },
        "id": "X-0qAmVDy3jF",
        "outputId": "ab638156-8431-41eb-fdfd-e65c670cf063"
      },
      "execution_count": null,
      "outputs": [
        {
          "output_type": "stream",
          "name": "stdout",
          "text": [
            "* * * * \n",
            "* * * * \n",
            "* * * * \n",
            "* * * * \n"
          ]
        }
      ]
    },
    {
      "cell_type": "code",
      "source": [
        "for i in range(4):\n",
        "  for j in range(i+1):\n",
        "    print('*' , end = ' ')\n",
        "  print()"
      ],
      "metadata": {
        "colab": {
          "base_uri": "https://localhost:8080/"
        },
        "id": "rN-TtZLNzc3e",
        "outputId": "d72e49f5-037d-4ca4-86ca-241e12c5652a"
      },
      "execution_count": null,
      "outputs": [
        {
          "output_type": "stream",
          "name": "stdout",
          "text": [
            "* \n",
            "* * \n",
            "* * * \n",
            "* * * * \n"
          ]
        }
      ]
    },
    {
      "cell_type": "markdown",
      "source": [
        "Largest Among Three numbers"
      ],
      "metadata": {
        "id": "5dKvgd_O0Mo1"
      }
    },
    {
      "cell_type": "code",
      "source": [
        "a = int(input('enter 1st number :'))\n",
        "b = int(input('enter 1st number :'))\n",
        "c = int(input('enter 1st number :'))\n",
        "if (a>b and a>c):\n",
        "  print(f\"Largest Number is a:\" ,a)\n",
        "elif (b>a and b>c):\n",
        "  print(f\"Largest Number is b:\" , b)\n",
        "else:\n",
        "  print(f\"Largest Number is c:\" , c)\n"
      ],
      "metadata": {
        "colab": {
          "base_uri": "https://localhost:8080/"
        },
        "id": "nqoJY-6L0R4t",
        "outputId": "b970baa2-36f3-4ad4-8cc9-58af540f4ad6"
      },
      "execution_count": null,
      "outputs": [
        {
          "output_type": "stream",
          "name": "stdout",
          "text": [
            "enter 1st number :10\n",
            "enter 1st number :20\n",
            "enter 1st number :30\n",
            "Largest Number is c: 30\n"
          ]
        }
      ]
    },
    {
      "cell_type": "markdown",
      "source": [
        "Swapping using temp variable"
      ],
      "metadata": {
        "id": "QnQA1WRX1Rfd"
      }
    },
    {
      "cell_type": "code",
      "source": [
        "a = 10\n",
        "b = 20\n",
        "print('a value before swap :' , a)\n",
        "print('b value before swap :' , b)\n",
        "temp = a\n",
        "a = b\n",
        "b = temp\n",
        "print('a value after swap :' , a)\n",
        "print('b value after swap :' , b)"
      ],
      "metadata": {
        "colab": {
          "base_uri": "https://localhost:8080/"
        },
        "id": "UsyfEuK01V8u",
        "outputId": "2b594ad5-2be6-47be-9742-b967d06216dd"
      },
      "execution_count": null,
      "outputs": [
        {
          "output_type": "stream",
          "name": "stdout",
          "text": [
            "a value before swap : 10\n",
            "b value before swap : 20\n",
            "a value after swap : 20\n",
            "b value after swap : 10\n"
          ]
        }
      ]
    },
    {
      "cell_type": "markdown",
      "source": [
        "Swapping without temp"
      ],
      "metadata": {
        "id": "54kv-V9H2CMT"
      }
    },
    {
      "cell_type": "code",
      "source": [
        "a = 10\n",
        "b = 20\n",
        "print('a value before swap :' , a)\n",
        "print('b value before swap :' , b)\n",
        "a,b = b,a\n",
        "print('a value after swap :' , a)\n",
        "print('b value after swap :' , b)\n"
      ],
      "metadata": {
        "colab": {
          "base_uri": "https://localhost:8080/"
        },
        "id": "sStsBChP2F-x",
        "outputId": "22a8c129-9fa5-402a-956c-dd863ff30df4"
      },
      "execution_count": null,
      "outputs": [
        {
          "output_type": "stream",
          "name": "stdout",
          "text": [
            "a value before swap : 10\n",
            "b value before swap : 20\n",
            "a value after swap : 20\n",
            "b value after swap : 10\n"
          ]
        }
      ]
    },
    {
      "cell_type": "markdown",
      "source": [
        "Check vowels"
      ],
      "metadata": {
        "id": "56MuV7T02YR4"
      }
    },
    {
      "cell_type": "code",
      "source": [
        "ch = input('enter a character:')\n",
        "if (ch=='a' or ch=='e' or ch =='i' or ch=='o' or ch == 'u'):\n",
        "  print('character is vowel ' , ch)\n",
        "else:\n",
        "  print('character is not vowel :' , ch)"
      ],
      "metadata": {
        "colab": {
          "base_uri": "https://localhost:8080/"
        },
        "id": "CXr6MysN2cC1",
        "outputId": "d90f258d-c90d-4454-e736-c664bfa89367"
      },
      "execution_count": null,
      "outputs": [
        {
          "output_type": "stream",
          "name": "stdout",
          "text": [
            "enter a character:h\n",
            "character is not vowel : h\n"
          ]
        }
      ]
    },
    {
      "cell_type": "markdown",
      "source": [
        "Prime Number using Functions"
      ],
      "metadata": {
        "id": "pInT0L_34l80"
      }
    },
    {
      "cell_type": "code",
      "source": [
        "def prime(num):\n",
        "  for i in range(2,num):\n",
        "    if num%i == 0:\n",
        "      print('not a prime number' , num)\n",
        "      break\n",
        "    else:\n",
        "      print('prime number' , num)\n",
        "      break\n",
        "\n",
        "prime(11)"
      ],
      "metadata": {
        "colab": {
          "base_uri": "https://localhost:8080/"
        },
        "id": "Yb6enpuJ4sBT",
        "outputId": "5832cc91-b8cd-43fc-9a77-d10f6576a0b3"
      },
      "execution_count": null,
      "outputs": [
        {
          "output_type": "stream",
          "name": "stdout",
          "text": [
            "prime number 11\n"
          ]
        }
      ]
    },
    {
      "cell_type": "markdown",
      "source": [
        "LCM of two numbers"
      ],
      "metadata": {
        "id": "gQ-JNSYC6zLn"
      }
    },
    {
      "cell_type": "code",
      "source": [
        "def lcm(num1,num2):\n",
        "\n",
        "  if num1>num2:\n",
        "    grt = num1\n",
        "  else:\n",
        "    grt = num2\n",
        "  while True:\n",
        "    if(grt%num1 == 0) and(grt%num2==0):\n",
        "      lcm = grt\n",
        "      break\n",
        "    grt+1\n",
        "  return lcm"
      ],
      "metadata": {
        "id": "sogCv-gz62Ux"
      },
      "execution_count": null,
      "outputs": []
    },
    {
      "cell_type": "code",
      "source": [
        "x = 5\n",
        "y=10\n",
        "print('Lcm of 2 numbers:' , lcm(x,y))"
      ],
      "metadata": {
        "colab": {
          "base_uri": "https://localhost:8080/"
        },
        "id": "mx3UnTRP8AdC",
        "outputId": "5b4adf90-2858-40be-9cc0-761cf0ec934e"
      },
      "execution_count": null,
      "outputs": [
        {
          "output_type": "stream",
          "name": "stdout",
          "text": [
            "Lcm of 2 numbers: 10\n"
          ]
        }
      ]
    },
    {
      "cell_type": "markdown",
      "source": [
        "Celsius to Farhenit"
      ],
      "metadata": {
        "id": "e00CjNd1y3hJ"
      }
    },
    {
      "cell_type": "code",
      "source": [
        "c = [0,30.15,29.8,35.9]\n",
        "f = [ (9/5 * temp) for temp in c]\n",
        "f"
      ],
      "metadata": {
        "colab": {
          "base_uri": "https://localhost:8080/"
        },
        "id": "FXjcVv6BzAcs",
        "outputId": "3d491844-8662-46f6-bffa-8d7daf353a4a"
      },
      "execution_count": null,
      "outputs": [
        {
          "output_type": "execute_result",
          "data": {
            "text/plain": [
              "[0.0, 54.269999999999996, 53.64, 64.62]"
            ]
          },
          "metadata": {},
          "execution_count": 1
        }
      ]
    },
    {
      "cell_type": "markdown",
      "source": [
        "Random Guessing Game"
      ],
      "metadata": {
        "id": "rW9Y9Fzq0UHS"
      }
    },
    {
      "cell_type": "code",
      "source": [
        "import random\n",
        "score = 10\n",
        "random_number = random.randint(0,100)\n",
        "user_input = int(input(\"enter the guess number:\"))\n",
        "if user_input == random_number:\n",
        "  print(\"Number guess is correct\")\n",
        "  score = score + 1\n",
        "  print(score)\n",
        "else:\n",
        "  print(\"number incorrect\")"
      ],
      "metadata": {
        "colab": {
          "base_uri": "https://localhost:8080/"
        },
        "id": "uau3kwV-0Ya4",
        "outputId": "9b84b90c-6077-490f-e6ae-51a9efea13a3"
      },
      "execution_count": null,
      "outputs": [
        {
          "output_type": "stream",
          "name": "stdout",
          "text": [
            "enter the guess number:1000\n",
            "number incorrect\n"
          ]
        }
      ]
    },
    {
      "cell_type": "markdown",
      "source": [
        "Factorial of a Number"
      ],
      "metadata": {
        "id": "EQay2PbcAooA"
      }
    },
    {
      "cell_type": "code",
      "source": [
        "def fact(num):\n",
        "  fact = 1\n",
        "  for i in range(1,num+1):\n",
        "    fact = fact*i\n",
        "  print(\"factorial of a number:\" ,fact)\n",
        "\n"
      ],
      "metadata": {
        "id": "WQulEDmkAwqT"
      },
      "execution_count": null,
      "outputs": []
    },
    {
      "cell_type": "code",
      "source": [
        "fact(5)"
      ],
      "metadata": {
        "colab": {
          "base_uri": "https://localhost:8080/"
        },
        "id": "x9thAqk8BjAw",
        "outputId": "9cab5cf3-b752-4436-cc36-eb5653126413"
      },
      "execution_count": null,
      "outputs": [
        {
          "output_type": "stream",
          "name": "stdout",
          "text": [
            "factorial of a number: 120\n"
          ]
        }
      ]
    },
    {
      "cell_type": "markdown",
      "source": [
        "Fibonacci Series"
      ],
      "metadata": {
        "id": "DnX2q6qxCU8l"
      }
    },
    {
      "cell_type": "code",
      "source": [
        "def fibo(n):\n",
        "  a = 0\n",
        "  b = 1\n",
        "  for i in range(0,n):\n",
        "    temp = a\n",
        "    a = b\n",
        "    b = temp+a\n",
        "  return a\n",
        "nterms = int(input(\"enter number of elements in series: \"))\n",
        "for c in range(0,nterms):\n",
        "  print( fibo(c), end = ' ')\n"
      ],
      "metadata": {
        "colab": {
          "base_uri": "https://localhost:8080/"
        },
        "id": "oNu6UDPeDKFl",
        "outputId": "4f29fbf3-ca98-4ea3-e5be-07f2a011dae0"
      },
      "execution_count": null,
      "outputs": [
        {
          "output_type": "stream",
          "name": "stdout",
          "text": [
            "enter number of elements in series: 10\n",
            "0 1 1 2 3 5 8 13 21 34 "
          ]
        }
      ]
    },
    {
      "cell_type": "markdown",
      "source": [
        "Functions -** lamboda**,** map()** - maps a iterate for function [syntax : map(func,obj)]\n",
        "**filter()**- maps a iterate function with condition[syntax : filter(fun,obj)]"
      ],
      "metadata": {
        "id": "ztwdNS27KBhm"
      }
    },
    {
      "cell_type": "code",
      "source": [
        "def square(num):\n",
        "  return num**2\n",
        "\n",
        "num = [2,3,4,5,6,7,8,9,10]\n",
        "\n",
        "print(\"list before sqaure:\" , num)\n",
        "\n",
        "m = list(map(square,num))\n",
        "\n",
        "print(\"list after square : \" ,m)"
      ],
      "metadata": {
        "colab": {
          "base_uri": "https://localhost:8080/"
        },
        "id": "0IbBK7gsKtyr",
        "outputId": "109de177-9c0b-49bc-a3c4-ac746fbd6331"
      },
      "execution_count": null,
      "outputs": [
        {
          "output_type": "stream",
          "name": "stdout",
          "text": [
            "list before sqaure: [2, 3, 4, 5, 6, 7, 8, 9, 10]\n",
            "list after square :  [4, 9, 16, 25, 36, 49, 64, 81, 100]\n"
          ]
        }
      ]
    },
    {
      "cell_type": "code",
      "source": [
        "def iseven(num):\n",
        "  if num%2==0: #checks the cond'n for iteration\n",
        "    return num\n",
        "n = list(filter(iseven , num))\n",
        "\n",
        "print (\"even numbers:\" , n)\n",
        "\n"
      ],
      "metadata": {
        "colab": {
          "base_uri": "https://localhost:8080/"
        },
        "id": "1Jp9JkMbL-ph",
        "outputId": "5f2f416b-714b-44ed-ae6b-df3746a28e29"
      },
      "execution_count": null,
      "outputs": [
        {
          "output_type": "stream",
          "name": "stdout",
          "text": [
            "even numbers: [2, 4, 6, 8, 10]\n"
          ]
        }
      ]
    },
    {
      "cell_type": "code",
      "source": [
        "x = lambda a,b:a+b\n",
        "res = x(3,4)\n",
        "print(\"sum of 2 numbers:\" , res)"
      ],
      "metadata": {
        "colab": {
          "base_uri": "https://localhost:8080/"
        },
        "id": "Acs0TLxeM_Bt",
        "outputId": "0fdb595a-a439-44a5-abcc-97858cc27dc7"
      },
      "execution_count": null,
      "outputs": [
        {
          "output_type": "stream",
          "name": "stdout",
          "text": [
            "sum of 2 numbers: 7\n"
          ]
        }
      ]
    }
  ]
}